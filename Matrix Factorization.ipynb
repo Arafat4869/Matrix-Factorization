{
 "cells": [
  {
   "cell_type": "code",
   "execution_count": 1,
   "id": "baada5a9",
   "metadata": {},
   "outputs": [],
   "source": [
    "import pandas as pd\n",
    "import numpy as np\n",
    "import matplotlib.pyplot as plt\n",
    "from sklearn.metrics import mean_squared_error"
   ]
  },
  {
   "cell_type": "code",
   "execution_count": 3,
   "id": "f439f4d0",
   "metadata": {},
   "outputs": [],
   "source": [
    "given_data = pd.read_csv('Matrix_Factorization_Assignment.csv')"
   ]
  },
  {
   "cell_type": "code",
   "execution_count": 4,
   "id": "63a22119",
   "metadata": {},
   "outputs": [
    {
     "name": "stdout",
     "output_type": "stream",
     "text": [
      "(45000, 5001)\n"
     ]
    },
    {
     "data": {
      "text/html": [
       "<div>\n",
       "<style scoped>\n",
       "    .dataframe tbody tr th:only-of-type {\n",
       "        vertical-align: middle;\n",
       "    }\n",
       "\n",
       "    .dataframe tbody tr th {\n",
       "        vertical-align: top;\n",
       "    }\n",
       "\n",
       "    .dataframe thead th {\n",
       "        text-align: right;\n",
       "    }\n",
       "</style>\n",
       "<table border=\"1\" class=\"dataframe\">\n",
       "  <thead>\n",
       "    <tr style=\"text-align: right;\">\n",
       "      <th></th>\n",
       "      <th>Index</th>\n",
       "      <th>0</th>\n",
       "      <th>1</th>\n",
       "      <th>2</th>\n",
       "      <th>3</th>\n",
       "      <th>4</th>\n",
       "      <th>5</th>\n",
       "      <th>6</th>\n",
       "      <th>7</th>\n",
       "      <th>8</th>\n",
       "      <th>...</th>\n",
       "      <th>4990</th>\n",
       "      <th>4991</th>\n",
       "      <th>4992</th>\n",
       "      <th>4993</th>\n",
       "      <th>4994</th>\n",
       "      <th>4995</th>\n",
       "      <th>4996</th>\n",
       "      <th>4997</th>\n",
       "      <th>4998</th>\n",
       "      <th>4999</th>\n",
       "    </tr>\n",
       "  </thead>\n",
       "  <tbody>\n",
       "    <tr>\n",
       "      <th>0</th>\n",
       "      <td>11071</td>\n",
       "      <td>1.0</td>\n",
       "      <td>7.0</td>\n",
       "      <td>1.0</td>\n",
       "      <td>9.0</td>\n",
       "      <td>6.0</td>\n",
       "      <td>6.0</td>\n",
       "      <td>8.0</td>\n",
       "      <td>NaN</td>\n",
       "      <td>NaN</td>\n",
       "      <td>...</td>\n",
       "      <td>2.0</td>\n",
       "      <td>NaN</td>\n",
       "      <td>7.0</td>\n",
       "      <td>9.0</td>\n",
       "      <td>6.0</td>\n",
       "      <td>10.0</td>\n",
       "      <td>7.0</td>\n",
       "      <td>NaN</td>\n",
       "      <td>NaN</td>\n",
       "      <td>NaN</td>\n",
       "    </tr>\n",
       "    <tr>\n",
       "      <th>1</th>\n",
       "      <td>19900</td>\n",
       "      <td>NaN</td>\n",
       "      <td>3.0</td>\n",
       "      <td>3.0</td>\n",
       "      <td>6.0</td>\n",
       "      <td>NaN</td>\n",
       "      <td>3.0</td>\n",
       "      <td>5.0</td>\n",
       "      <td>7.0</td>\n",
       "      <td>9.0</td>\n",
       "      <td>...</td>\n",
       "      <td>NaN</td>\n",
       "      <td>NaN</td>\n",
       "      <td>NaN</td>\n",
       "      <td>5.0</td>\n",
       "      <td>9.0</td>\n",
       "      <td>3.0</td>\n",
       "      <td>0.0</td>\n",
       "      <td>NaN</td>\n",
       "      <td>9.0</td>\n",
       "      <td>2.0</td>\n",
       "    </tr>\n",
       "    <tr>\n",
       "      <th>2</th>\n",
       "      <td>25325</td>\n",
       "      <td>5.0</td>\n",
       "      <td>7.0</td>\n",
       "      <td>NaN</td>\n",
       "      <td>9.0</td>\n",
       "      <td>5.0</td>\n",
       "      <td>6.0</td>\n",
       "      <td>5.0</td>\n",
       "      <td>0.0</td>\n",
       "      <td>NaN</td>\n",
       "      <td>...</td>\n",
       "      <td>NaN</td>\n",
       "      <td>9.0</td>\n",
       "      <td>10.0</td>\n",
       "      <td>NaN</td>\n",
       "      <td>NaN</td>\n",
       "      <td>9.0</td>\n",
       "      <td>0.0</td>\n",
       "      <td>NaN</td>\n",
       "      <td>NaN</td>\n",
       "      <td>7.0</td>\n",
       "    </tr>\n",
       "    <tr>\n",
       "      <th>3</th>\n",
       "      <td>31006</td>\n",
       "      <td>3.0</td>\n",
       "      <td>4.0</td>\n",
       "      <td>1.0</td>\n",
       "      <td>NaN</td>\n",
       "      <td>5.0</td>\n",
       "      <td>NaN</td>\n",
       "      <td>10.0</td>\n",
       "      <td>NaN</td>\n",
       "      <td>8.0</td>\n",
       "      <td>...</td>\n",
       "      <td>3.0</td>\n",
       "      <td>2.0</td>\n",
       "      <td>1.0</td>\n",
       "      <td>3.0</td>\n",
       "      <td>NaN</td>\n",
       "      <td>NaN</td>\n",
       "      <td>2.0</td>\n",
       "      <td>NaN</td>\n",
       "      <td>4.0</td>\n",
       "      <td>2.0</td>\n",
       "    </tr>\n",
       "    <tr>\n",
       "      <th>4</th>\n",
       "      <td>37002</td>\n",
       "      <td>2.0</td>\n",
       "      <td>0.0</td>\n",
       "      <td>5.0</td>\n",
       "      <td>0.0</td>\n",
       "      <td>3.0</td>\n",
       "      <td>5.0</td>\n",
       "      <td>NaN</td>\n",
       "      <td>NaN</td>\n",
       "      <td>NaN</td>\n",
       "      <td>...</td>\n",
       "      <td>9.0</td>\n",
       "      <td>NaN</td>\n",
       "      <td>5.0</td>\n",
       "      <td>3.0</td>\n",
       "      <td>5.0</td>\n",
       "      <td>1.0</td>\n",
       "      <td>6.0</td>\n",
       "      <td>6.0</td>\n",
       "      <td>8.0</td>\n",
       "      <td>NaN</td>\n",
       "    </tr>\n",
       "    <tr>\n",
       "      <th>5</th>\n",
       "      <td>9280</td>\n",
       "      <td>NaN</td>\n",
       "      <td>5.0</td>\n",
       "      <td>NaN</td>\n",
       "      <td>10.0</td>\n",
       "      <td>NaN</td>\n",
       "      <td>NaN</td>\n",
       "      <td>1.0</td>\n",
       "      <td>NaN</td>\n",
       "      <td>7.0</td>\n",
       "      <td>...</td>\n",
       "      <td>NaN</td>\n",
       "      <td>NaN</td>\n",
       "      <td>8.0</td>\n",
       "      <td>9.0</td>\n",
       "      <td>NaN</td>\n",
       "      <td>NaN</td>\n",
       "      <td>8.0</td>\n",
       "      <td>6.0</td>\n",
       "      <td>NaN</td>\n",
       "      <td>1.0</td>\n",
       "    </tr>\n",
       "    <tr>\n",
       "      <th>6</th>\n",
       "      <td>28289</td>\n",
       "      <td>NaN</td>\n",
       "      <td>3.0</td>\n",
       "      <td>2.0</td>\n",
       "      <td>2.0</td>\n",
       "      <td>10.0</td>\n",
       "      <td>NaN</td>\n",
       "      <td>NaN</td>\n",
       "      <td>2.0</td>\n",
       "      <td>9.0</td>\n",
       "      <td>...</td>\n",
       "      <td>NaN</td>\n",
       "      <td>NaN</td>\n",
       "      <td>NaN</td>\n",
       "      <td>6.0</td>\n",
       "      <td>7.0</td>\n",
       "      <td>1.0</td>\n",
       "      <td>NaN</td>\n",
       "      <td>NaN</td>\n",
       "      <td>NaN</td>\n",
       "      <td>0.0</td>\n",
       "    </tr>\n",
       "    <tr>\n",
       "      <th>7</th>\n",
       "      <td>3827</td>\n",
       "      <td>0.0</td>\n",
       "      <td>NaN</td>\n",
       "      <td>NaN</td>\n",
       "      <td>NaN</td>\n",
       "      <td>NaN</td>\n",
       "      <td>6.0</td>\n",
       "      <td>5.0</td>\n",
       "      <td>NaN</td>\n",
       "      <td>2.0</td>\n",
       "      <td>...</td>\n",
       "      <td>NaN</td>\n",
       "      <td>1.0</td>\n",
       "      <td>NaN</td>\n",
       "      <td>NaN</td>\n",
       "      <td>0.0</td>\n",
       "      <td>NaN</td>\n",
       "      <td>3.0</td>\n",
       "      <td>9.0</td>\n",
       "      <td>NaN</td>\n",
       "      <td>NaN</td>\n",
       "    </tr>\n",
       "    <tr>\n",
       "      <th>8</th>\n",
       "      <td>45072</td>\n",
       "      <td>1.0</td>\n",
       "      <td>0.0</td>\n",
       "      <td>NaN</td>\n",
       "      <td>NaN</td>\n",
       "      <td>5.0</td>\n",
       "      <td>4.0</td>\n",
       "      <td>2.0</td>\n",
       "      <td>NaN</td>\n",
       "      <td>8.0</td>\n",
       "      <td>...</td>\n",
       "      <td>NaN</td>\n",
       "      <td>9.0</td>\n",
       "      <td>3.0</td>\n",
       "      <td>1.0</td>\n",
       "      <td>NaN</td>\n",
       "      <td>0.0</td>\n",
       "      <td>3.0</td>\n",
       "      <td>6.0</td>\n",
       "      <td>9.0</td>\n",
       "      <td>NaN</td>\n",
       "    </tr>\n",
       "    <tr>\n",
       "      <th>9</th>\n",
       "      <td>13205</td>\n",
       "      <td>NaN</td>\n",
       "      <td>2.0</td>\n",
       "      <td>7.0</td>\n",
       "      <td>9.0</td>\n",
       "      <td>9.0</td>\n",
       "      <td>6.0</td>\n",
       "      <td>7.0</td>\n",
       "      <td>8.0</td>\n",
       "      <td>NaN</td>\n",
       "      <td>...</td>\n",
       "      <td>NaN</td>\n",
       "      <td>NaN</td>\n",
       "      <td>7.0</td>\n",
       "      <td>NaN</td>\n",
       "      <td>NaN</td>\n",
       "      <td>7.0</td>\n",
       "      <td>7.0</td>\n",
       "      <td>NaN</td>\n",
       "      <td>NaN</td>\n",
       "      <td>7.0</td>\n",
       "    </tr>\n",
       "  </tbody>\n",
       "</table>\n",
       "<p>10 rows × 5001 columns</p>\n",
       "</div>"
      ],
      "text/plain": [
       "   Index    0    1    2     3     4    5     6    7    8  ...  4990  4991  \\\n",
       "0  11071  1.0  7.0  1.0   9.0   6.0  6.0   8.0  NaN  NaN  ...   2.0   NaN   \n",
       "1  19900  NaN  3.0  3.0   6.0   NaN  3.0   5.0  7.0  9.0  ...   NaN   NaN   \n",
       "2  25325  5.0  7.0  NaN   9.0   5.0  6.0   5.0  0.0  NaN  ...   NaN   9.0   \n",
       "3  31006  3.0  4.0  1.0   NaN   5.0  NaN  10.0  NaN  8.0  ...   3.0   2.0   \n",
       "4  37002  2.0  0.0  5.0   0.0   3.0  5.0   NaN  NaN  NaN  ...   9.0   NaN   \n",
       "5   9280  NaN  5.0  NaN  10.0   NaN  NaN   1.0  NaN  7.0  ...   NaN   NaN   \n",
       "6  28289  NaN  3.0  2.0   2.0  10.0  NaN   NaN  2.0  9.0  ...   NaN   NaN   \n",
       "7   3827  0.0  NaN  NaN   NaN   NaN  6.0   5.0  NaN  2.0  ...   NaN   1.0   \n",
       "8  45072  1.0  0.0  NaN   NaN   5.0  4.0   2.0  NaN  8.0  ...   NaN   9.0   \n",
       "9  13205  NaN  2.0  7.0   9.0   9.0  6.0   7.0  8.0  NaN  ...   NaN   NaN   \n",
       "\n",
       "   4992  4993  4994  4995  4996  4997  4998  4999  \n",
       "0   7.0   9.0   6.0  10.0   7.0   NaN   NaN   NaN  \n",
       "1   NaN   5.0   9.0   3.0   0.0   NaN   9.0   2.0  \n",
       "2  10.0   NaN   NaN   9.0   0.0   NaN   NaN   7.0  \n",
       "3   1.0   3.0   NaN   NaN   2.0   NaN   4.0   2.0  \n",
       "4   5.0   3.0   5.0   1.0   6.0   6.0   8.0   NaN  \n",
       "5   8.0   9.0   NaN   NaN   8.0   6.0   NaN   1.0  \n",
       "6   NaN   6.0   7.0   1.0   NaN   NaN   NaN   0.0  \n",
       "7   NaN   NaN   0.0   NaN   3.0   9.0   NaN   NaN  \n",
       "8   3.0   1.0   NaN   0.0   3.0   6.0   9.0   NaN  \n",
       "9   7.0   NaN   NaN   7.0   7.0   NaN   NaN   7.0  \n",
       "\n",
       "[10 rows x 5001 columns]"
      ]
     },
     "execution_count": 4,
     "metadata": {},
     "output_type": "execute_result"
    }
   ],
   "source": [
    "data_ini = given_data.copy()\n",
    "print(data_ini.shape)\n",
    "data_ini.head(10)"
   ]
  },
  {
   "cell_type": "markdown",
   "id": "a866b574",
   "metadata": {},
   "source": [
    "# Deleting Rows"
   ]
  },
  {
   "cell_type": "code",
   "execution_count": 5,
   "id": "24c39b07",
   "metadata": {},
   "outputs": [
    {
     "data": {
      "text/plain": [
       "(44847, 5001)"
      ]
     },
     "execution_count": 5,
     "metadata": {},
     "output_type": "execute_result"
    }
   ],
   "source": [
    "data1 = data_ini.copy()\n",
    "for key,rows in data1.iterrows():\n",
    "    if(rows['Index'] % 282 == 0):\n",
    "        data1.drop(key,axis=0,inplace=True)\n",
    "data1.shape"
   ]
  },
  {
   "cell_type": "markdown",
   "id": "b3baa568",
   "metadata": {},
   "source": [
    "# Deleting Columns"
   ]
  },
  {
   "cell_type": "code",
   "execution_count": 6,
   "id": "3fd016ab",
   "metadata": {},
   "outputs": [
    {
     "data": {
      "text/plain": [
       "(44847, 4983)"
      ]
     },
     "execution_count": 6,
     "metadata": {},
     "output_type": "execute_result"
    }
   ],
   "source": [
    "data2 = data1.drop(['Index'],axis=1)\n",
    "data2.head()\n",
    "for key,cols in data2.iteritems():\n",
    "    if(int(key) != 0 and int(key) %282 == 0):\n",
    "        data2.drop(key,axis=1,inplace=True)\n",
    "data2.shape"
   ]
  },
  {
   "cell_type": "markdown",
   "id": "fe94deaf",
   "metadata": {},
   "source": [
    "# Saving New Data"
   ]
  },
  {
   "cell_type": "code",
   "execution_count": null,
   "id": "8455faee",
   "metadata": {},
   "outputs": [],
   "source": [
    "data2.to_csv('Updated_Dataset.csv',index=False)"
   ]
  },
  {
   "cell_type": "code",
   "execution_count": 7,
   "id": "b70a6076",
   "metadata": {},
   "outputs": [
    {
     "name": "stdout",
     "output_type": "stream",
     "text": [
      "(45000, 5001)\n"
     ]
    },
    {
     "data": {
      "text/plain": [
       "(44847, 4983)"
      ]
     },
     "execution_count": 7,
     "metadata": {},
     "output_type": "execute_result"
    }
   ],
   "source": [
    "print(data_ini.shape)\n",
    "data2.shape"
   ]
  },
  {
   "cell_type": "markdown",
   "id": "a671f7c8",
   "metadata": {},
   "source": [
    "# Reading New Saved Data"
   ]
  },
  {
   "cell_type": "code",
   "execution_count": 5,
   "id": "08c19890",
   "metadata": {},
   "outputs": [
    {
     "name": "stdout",
     "output_type": "stream",
     "text": [
      "(44847, 4983)\n"
     ]
    },
    {
     "data": {
      "text/html": [
       "<div>\n",
       "<style scoped>\n",
       "    .dataframe tbody tr th:only-of-type {\n",
       "        vertical-align: middle;\n",
       "    }\n",
       "\n",
       "    .dataframe tbody tr th {\n",
       "        vertical-align: top;\n",
       "    }\n",
       "\n",
       "    .dataframe thead th {\n",
       "        text-align: right;\n",
       "    }\n",
       "</style>\n",
       "<table border=\"1\" class=\"dataframe\">\n",
       "  <thead>\n",
       "    <tr style=\"text-align: right;\">\n",
       "      <th></th>\n",
       "      <th>0</th>\n",
       "      <th>1</th>\n",
       "      <th>2</th>\n",
       "      <th>3</th>\n",
       "      <th>4</th>\n",
       "      <th>5</th>\n",
       "      <th>6</th>\n",
       "      <th>7</th>\n",
       "      <th>8</th>\n",
       "      <th>9</th>\n",
       "      <th>...</th>\n",
       "      <th>4990</th>\n",
       "      <th>4991</th>\n",
       "      <th>4992</th>\n",
       "      <th>4993</th>\n",
       "      <th>4994</th>\n",
       "      <th>4995</th>\n",
       "      <th>4996</th>\n",
       "      <th>4997</th>\n",
       "      <th>4998</th>\n",
       "      <th>4999</th>\n",
       "    </tr>\n",
       "  </thead>\n",
       "  <tbody>\n",
       "    <tr>\n",
       "      <th>0</th>\n",
       "      <td>1.0</td>\n",
       "      <td>7.0</td>\n",
       "      <td>1.0</td>\n",
       "      <td>9.0</td>\n",
       "      <td>6.0</td>\n",
       "      <td>6.0</td>\n",
       "      <td>8.0</td>\n",
       "      <td>NaN</td>\n",
       "      <td>NaN</td>\n",
       "      <td>10.0</td>\n",
       "      <td>...</td>\n",
       "      <td>2.0</td>\n",
       "      <td>NaN</td>\n",
       "      <td>7.0</td>\n",
       "      <td>9.0</td>\n",
       "      <td>6.0</td>\n",
       "      <td>10.0</td>\n",
       "      <td>7.0</td>\n",
       "      <td>NaN</td>\n",
       "      <td>NaN</td>\n",
       "      <td>NaN</td>\n",
       "    </tr>\n",
       "    <tr>\n",
       "      <th>1</th>\n",
       "      <td>NaN</td>\n",
       "      <td>3.0</td>\n",
       "      <td>3.0</td>\n",
       "      <td>6.0</td>\n",
       "      <td>NaN</td>\n",
       "      <td>3.0</td>\n",
       "      <td>5.0</td>\n",
       "      <td>7.0</td>\n",
       "      <td>9.0</td>\n",
       "      <td>NaN</td>\n",
       "      <td>...</td>\n",
       "      <td>NaN</td>\n",
       "      <td>NaN</td>\n",
       "      <td>NaN</td>\n",
       "      <td>5.0</td>\n",
       "      <td>9.0</td>\n",
       "      <td>3.0</td>\n",
       "      <td>0.0</td>\n",
       "      <td>NaN</td>\n",
       "      <td>9.0</td>\n",
       "      <td>2.0</td>\n",
       "    </tr>\n",
       "    <tr>\n",
       "      <th>2</th>\n",
       "      <td>5.0</td>\n",
       "      <td>7.0</td>\n",
       "      <td>NaN</td>\n",
       "      <td>9.0</td>\n",
       "      <td>5.0</td>\n",
       "      <td>6.0</td>\n",
       "      <td>5.0</td>\n",
       "      <td>0.0</td>\n",
       "      <td>NaN</td>\n",
       "      <td>10.0</td>\n",
       "      <td>...</td>\n",
       "      <td>NaN</td>\n",
       "      <td>9.0</td>\n",
       "      <td>10.0</td>\n",
       "      <td>NaN</td>\n",
       "      <td>NaN</td>\n",
       "      <td>9.0</td>\n",
       "      <td>0.0</td>\n",
       "      <td>NaN</td>\n",
       "      <td>NaN</td>\n",
       "      <td>7.0</td>\n",
       "    </tr>\n",
       "    <tr>\n",
       "      <th>3</th>\n",
       "      <td>3.0</td>\n",
       "      <td>4.0</td>\n",
       "      <td>1.0</td>\n",
       "      <td>NaN</td>\n",
       "      <td>5.0</td>\n",
       "      <td>NaN</td>\n",
       "      <td>10.0</td>\n",
       "      <td>NaN</td>\n",
       "      <td>8.0</td>\n",
       "      <td>0.0</td>\n",
       "      <td>...</td>\n",
       "      <td>3.0</td>\n",
       "      <td>2.0</td>\n",
       "      <td>1.0</td>\n",
       "      <td>3.0</td>\n",
       "      <td>NaN</td>\n",
       "      <td>NaN</td>\n",
       "      <td>2.0</td>\n",
       "      <td>NaN</td>\n",
       "      <td>4.0</td>\n",
       "      <td>2.0</td>\n",
       "    </tr>\n",
       "    <tr>\n",
       "      <th>4</th>\n",
       "      <td>2.0</td>\n",
       "      <td>0.0</td>\n",
       "      <td>5.0</td>\n",
       "      <td>0.0</td>\n",
       "      <td>3.0</td>\n",
       "      <td>5.0</td>\n",
       "      <td>NaN</td>\n",
       "      <td>NaN</td>\n",
       "      <td>NaN</td>\n",
       "      <td>0.0</td>\n",
       "      <td>...</td>\n",
       "      <td>9.0</td>\n",
       "      <td>NaN</td>\n",
       "      <td>5.0</td>\n",
       "      <td>3.0</td>\n",
       "      <td>5.0</td>\n",
       "      <td>1.0</td>\n",
       "      <td>6.0</td>\n",
       "      <td>6.0</td>\n",
       "      <td>8.0</td>\n",
       "      <td>NaN</td>\n",
       "    </tr>\n",
       "    <tr>\n",
       "      <th>...</th>\n",
       "      <td>...</td>\n",
       "      <td>...</td>\n",
       "      <td>...</td>\n",
       "      <td>...</td>\n",
       "      <td>...</td>\n",
       "      <td>...</td>\n",
       "      <td>...</td>\n",
       "      <td>...</td>\n",
       "      <td>...</td>\n",
       "      <td>...</td>\n",
       "      <td>...</td>\n",
       "      <td>...</td>\n",
       "      <td>...</td>\n",
       "      <td>...</td>\n",
       "      <td>...</td>\n",
       "      <td>...</td>\n",
       "      <td>...</td>\n",
       "      <td>...</td>\n",
       "      <td>...</td>\n",
       "      <td>...</td>\n",
       "      <td>...</td>\n",
       "    </tr>\n",
       "    <tr>\n",
       "      <th>95</th>\n",
       "      <td>10.0</td>\n",
       "      <td>NaN</td>\n",
       "      <td>10.0</td>\n",
       "      <td>3.0</td>\n",
       "      <td>9.0</td>\n",
       "      <td>9.0</td>\n",
       "      <td>NaN</td>\n",
       "      <td>7.0</td>\n",
       "      <td>NaN</td>\n",
       "      <td>NaN</td>\n",
       "      <td>...</td>\n",
       "      <td>NaN</td>\n",
       "      <td>NaN</td>\n",
       "      <td>NaN</td>\n",
       "      <td>8.0</td>\n",
       "      <td>NaN</td>\n",
       "      <td>9.0</td>\n",
       "      <td>4.0</td>\n",
       "      <td>NaN</td>\n",
       "      <td>NaN</td>\n",
       "      <td>NaN</td>\n",
       "    </tr>\n",
       "    <tr>\n",
       "      <th>96</th>\n",
       "      <td>NaN</td>\n",
       "      <td>NaN</td>\n",
       "      <td>NaN</td>\n",
       "      <td>8.0</td>\n",
       "      <td>8.0</td>\n",
       "      <td>4.0</td>\n",
       "      <td>NaN</td>\n",
       "      <td>NaN</td>\n",
       "      <td>NaN</td>\n",
       "      <td>10.0</td>\n",
       "      <td>...</td>\n",
       "      <td>4.0</td>\n",
       "      <td>4.0</td>\n",
       "      <td>2.0</td>\n",
       "      <td>0.0</td>\n",
       "      <td>3.0</td>\n",
       "      <td>8.0</td>\n",
       "      <td>NaN</td>\n",
       "      <td>9.0</td>\n",
       "      <td>1.0</td>\n",
       "      <td>2.0</td>\n",
       "    </tr>\n",
       "    <tr>\n",
       "      <th>97</th>\n",
       "      <td>3.0</td>\n",
       "      <td>6.0</td>\n",
       "      <td>NaN</td>\n",
       "      <td>9.0</td>\n",
       "      <td>NaN</td>\n",
       "      <td>4.0</td>\n",
       "      <td>3.0</td>\n",
       "      <td>4.0</td>\n",
       "      <td>NaN</td>\n",
       "      <td>NaN</td>\n",
       "      <td>...</td>\n",
       "      <td>NaN</td>\n",
       "      <td>3.0</td>\n",
       "      <td>NaN</td>\n",
       "      <td>4.0</td>\n",
       "      <td>NaN</td>\n",
       "      <td>1.0</td>\n",
       "      <td>7.0</td>\n",
       "      <td>3.0</td>\n",
       "      <td>2.0</td>\n",
       "      <td>10.0</td>\n",
       "    </tr>\n",
       "    <tr>\n",
       "      <th>98</th>\n",
       "      <td>NaN</td>\n",
       "      <td>7.0</td>\n",
       "      <td>1.0</td>\n",
       "      <td>8.0</td>\n",
       "      <td>3.0</td>\n",
       "      <td>3.0</td>\n",
       "      <td>8.0</td>\n",
       "      <td>4.0</td>\n",
       "      <td>NaN</td>\n",
       "      <td>NaN</td>\n",
       "      <td>...</td>\n",
       "      <td>4.0</td>\n",
       "      <td>8.0</td>\n",
       "      <td>NaN</td>\n",
       "      <td>10.0</td>\n",
       "      <td>8.0</td>\n",
       "      <td>NaN</td>\n",
       "      <td>NaN</td>\n",
       "      <td>2.0</td>\n",
       "      <td>NaN</td>\n",
       "      <td>NaN</td>\n",
       "    </tr>\n",
       "    <tr>\n",
       "      <th>99</th>\n",
       "      <td>6.0</td>\n",
       "      <td>1.0</td>\n",
       "      <td>NaN</td>\n",
       "      <td>NaN</td>\n",
       "      <td>NaN</td>\n",
       "      <td>3.0</td>\n",
       "      <td>NaN</td>\n",
       "      <td>2.0</td>\n",
       "      <td>6.0</td>\n",
       "      <td>1.0</td>\n",
       "      <td>...</td>\n",
       "      <td>10.0</td>\n",
       "      <td>2.0</td>\n",
       "      <td>9.0</td>\n",
       "      <td>NaN</td>\n",
       "      <td>NaN</td>\n",
       "      <td>9.0</td>\n",
       "      <td>NaN</td>\n",
       "      <td>5.0</td>\n",
       "      <td>1.0</td>\n",
       "      <td>1.0</td>\n",
       "    </tr>\n",
       "  </tbody>\n",
       "</table>\n",
       "<p>100 rows × 4983 columns</p>\n",
       "</div>"
      ],
      "text/plain": [
       "       0    1     2    3    4    5     6    7    8     9  ...  4990  4991  \\\n",
       "0    1.0  7.0   1.0  9.0  6.0  6.0   8.0  NaN  NaN  10.0  ...   2.0   NaN   \n",
       "1    NaN  3.0   3.0  6.0  NaN  3.0   5.0  7.0  9.0   NaN  ...   NaN   NaN   \n",
       "2    5.0  7.0   NaN  9.0  5.0  6.0   5.0  0.0  NaN  10.0  ...   NaN   9.0   \n",
       "3    3.0  4.0   1.0  NaN  5.0  NaN  10.0  NaN  8.0   0.0  ...   3.0   2.0   \n",
       "4    2.0  0.0   5.0  0.0  3.0  5.0   NaN  NaN  NaN   0.0  ...   9.0   NaN   \n",
       "..   ...  ...   ...  ...  ...  ...   ...  ...  ...   ...  ...   ...   ...   \n",
       "95  10.0  NaN  10.0  3.0  9.0  9.0   NaN  7.0  NaN   NaN  ...   NaN   NaN   \n",
       "96   NaN  NaN   NaN  8.0  8.0  4.0   NaN  NaN  NaN  10.0  ...   4.0   4.0   \n",
       "97   3.0  6.0   NaN  9.0  NaN  4.0   3.0  4.0  NaN   NaN  ...   NaN   3.0   \n",
       "98   NaN  7.0   1.0  8.0  3.0  3.0   8.0  4.0  NaN   NaN  ...   4.0   8.0   \n",
       "99   6.0  1.0   NaN  NaN  NaN  3.0   NaN  2.0  6.0   1.0  ...  10.0   2.0   \n",
       "\n",
       "    4992  4993  4994  4995  4996  4997  4998  4999  \n",
       "0    7.0   9.0   6.0  10.0   7.0   NaN   NaN   NaN  \n",
       "1    NaN   5.0   9.0   3.0   0.0   NaN   9.0   2.0  \n",
       "2   10.0   NaN   NaN   9.0   0.0   NaN   NaN   7.0  \n",
       "3    1.0   3.0   NaN   NaN   2.0   NaN   4.0   2.0  \n",
       "4    5.0   3.0   5.0   1.0   6.0   6.0   8.0   NaN  \n",
       "..   ...   ...   ...   ...   ...   ...   ...   ...  \n",
       "95   NaN   8.0   NaN   9.0   4.0   NaN   NaN   NaN  \n",
       "96   2.0   0.0   3.0   8.0   NaN   9.0   1.0   2.0  \n",
       "97   NaN   4.0   NaN   1.0   7.0   3.0   2.0  10.0  \n",
       "98   NaN  10.0   8.0   NaN   NaN   2.0   NaN   NaN  \n",
       "99   9.0   NaN   NaN   9.0   NaN   5.0   1.0   1.0  \n",
       "\n",
       "[100 rows x 4983 columns]"
      ]
     },
     "execution_count": 5,
     "metadata": {},
     "output_type": "execute_result"
    }
   ],
   "source": [
    "data = pd.read_csv('Updated_Dataset.csv')\n",
    "print(data.shape)\n",
    "data.head(100)"
   ]
  },
  {
   "cell_type": "code",
   "execution_count": 6,
   "id": "60e66323",
   "metadata": {},
   "outputs": [
    {
     "name": "stdout",
     "output_type": "stream",
     "text": [
      "[[ 1.  7.  1. ...  0.  0.  0.]\n",
      " [ 0.  3.  3. ...  0.  9.  2.]\n",
      " [ 5.  7.  0. ...  0.  0.  7.]\n",
      " ...\n",
      " [ 0.  9.  0. ...  0.  1.  4.]\n",
      " [10.  0.  7. ...  0.  8.  8.]\n",
      " [ 0.  7.  0. ...  0.  2.  0.]]\n",
      "44847 4983\n"
     ]
    }
   ],
   "source": [
    "con_data = np.array(data.replace(np.nan,0.0),dtype=np.float16)\n",
    "print(con_data)\n",
    "\n",
    "N,M = con_data.shape\n",
    "print(N,M)"
   ]
  },
  {
   "cell_type": "markdown",
   "id": "c0a35a46",
   "metadata": {},
   "source": [
    "# Functions"
   ]
  },
  {
   "cell_type": "code",
   "execution_count": 4,
   "id": "cd6036d7",
   "metadata": {},
   "outputs": [],
   "source": [
    "def calculate_U(V,lamda_U,K,data):\n",
    "    U = (data.dot(V)).dot(np.linalg.inv((V.T).dot(V) + (lamda_U*np.eye(K))))\n",
    "    return U  \n",
    "\n",
    "def calculate_V(U,lamda_V,K,data):\n",
    "    V = ((data.T).dot(U)).dot(np.linalg.inv((U.T).dot(U) + (lamda_V*np.eye(K))))\n",
    "    return V  \n",
    "\n",
    "def MSE(act_val,pred_val):\n",
    "    lst = np.nonzero(act_val)\n",
    "    return mean_squared_error(act_val[lst],pred_val[lst])\n",
    "\n",
    "def plot_graph(Loss,K):\n",
    "    plt.plot(Loss,label = 'K = '+str(K))\n",
    "    plt.legend()\n",
    "    plt.xlabel('Iterations')\n",
    "    plt.ylabel('MSE')\n",
    "    plt.savefig(('Graph for '+str(K))+'.png')\n",
    "    plt.show()"
   ]
  },
  {
   "cell_type": "markdown",
   "id": "dca349ab",
   "metadata": {},
   "source": [
    "# Generating Loss Curves"
   ]
  },
  {
   "cell_type": "code",
   "execution_count": 35,
   "id": "8f8c2a03",
   "metadata": {
    "scrolled": true
   },
   "outputs": [
    {
     "name": "stdout",
     "output_type": "stream",
     "text": [
      "K= 10\n",
      "i=  0 loss=  14.247360325412266\n",
      "i=  20 loss=  14.229241050909105\n",
      "i=  40 loss=  14.22843143052494\n",
      "i=  60 loss=  14.22819508092307\n",
      "i=  80 loss=  14.228080538860857\n",
      "i=  100 loss=  14.228009429811436\n",
      "i=  120 loss=  14.227960767919324\n",
      "i=  140 loss=  14.227926163653109\n",
      "i=  160 loss=  14.227900913503996\n",
      "i=  180 loss=  14.22788196892791\n"
     ]
    },
    {
     "data": {
      "image/png": "[encoded data removed]",
      "text/plain": [
       "<Figure size 432x288 with 1 Axes>"
      ]
     },
     "metadata": {
      "needs_background": "light"
     },
     "output_type": "display_data"
    },
    {
     "name": "stdout",
     "output_type": "stream",
     "text": [
      "K= 100\n",
      "i=  0 loss=  13.917072760862151\n",
      "i=  20 loss=  13.730354215340055\n",
      "i=  40 loss=  13.723755136206078\n",
      "i=  60 loss=  13.722093772986577\n",
      "i=  80 loss=  13.721452022901136\n",
      "i=  100 loss=  13.721146206194993\n",
      "i=  120 loss=  13.720979078539953\n",
      "i=  140 loss=  13.720877860631854\n",
      "i=  160 loss=  13.720812013746691\n",
      "i=  180 loss=  13.720767227034385\n"
     ]
    },
    {
     "data": {
      "image/png": "[encoded data removed]",
      "text/plain": [
       "<Figure size 432x288 with 1 Axes>"
      ]
     },
     "metadata": {
      "needs_background": "light"
     },
     "output_type": "display_data"
    },
    {
     "name": "stdout",
     "output_type": "stream",
     "text": [
      "K= 200\n",
      "i=  0 loss=  13.553132257807892\n",
      "i=  20 loss=  13.196504412912187\n",
      "i=  40 loss=  13.186773391605652\n",
      "i=  60 loss=  13.184669681917315\n",
      "i=  80 loss=  13.183942621782174\n",
      "i=  100 loss=  13.183619125909\n",
      "i=  120 loss=  13.183450864666865\n",
      "i=  140 loss=  13.183352493013238\n",
      "i=  160 loss=  13.183289158485183\n",
      "i=  180 loss=  13.183245059298324\n"
     ]
    },
    {
     "data": {
      "image/png": "[encoded data removed]",
      "text/plain": [
       "<Figure size 432x288 with 1 Axes>"
      ]
     },
     "metadata": {
      "needs_background": "light"
     },
     "output_type": "display_data"
    },
    {
     "name": "stdout",
     "output_type": "stream",
     "text": [
      "K= 300\n",
      "i=  0 loss=  13.193224982112142\n",
      "i=  20 loss=  12.68272729271316\n",
      "i=  40 loss=  12.671291908665674\n",
      "i=  60 loss=  12.668918702402198\n",
      "i=  80 loss=  12.66809666659587\n",
      "i=  100 loss=  12.667724566732447\n",
      "i=  120 loss=  12.667523237269961\n",
      "i=  140 loss=  12.667399832987572\n",
      "i=  160 loss=  12.667318027221885\n",
      "i=  180 loss=  12.667261397522264\n"
     ]
    },
    {
     "data": {
      "image/png": "[encoded data removed]",
      "text/plain": [
       "<Figure size 432x288 with 1 Axes>"
      ]
     },
     "metadata": {
      "needs_background": "light"
     },
     "output_type": "display_data"
    },
    {
     "name": "stdout",
     "output_type": "stream",
     "text": [
      "K= 400\n",
      "i=  0 loss=  12.838971784005306\n",
      "i=  20 loss=  12.186437730930981\n",
      "i=  40 loss=  12.174228869172897\n",
      "i=  60 loss=  12.171826979995178\n",
      "i=  80 loss=  12.170983164105557\n",
      "i=  100 loss=  12.170589812378548\n",
      "i=  120 loss=  12.170371269675458\n",
      "i=  140 loss=  12.170235121313649\n",
      "i=  160 loss=  12.170143618710275\n",
      "i=  180 loss=  12.170078813776977\n"
     ]
    },
    {
     "data": {
      "image/png": "[encoded data removed]",
      "text/plain": [
       "<Figure size 432x288 with 1 Axes>"
      ]
     },
     "metadata": {
      "needs_background": "light"
     },
     "output_type": "display_data"
    },
    {
     "name": "stdout",
     "output_type": "stream",
     "text": [
      "K= 500\n",
      "i=  0 loss=  12.48543709382711\n",
      "i=  20 loss=  11.706987553186565\n",
      "i=  40 loss=  11.694218578950078\n",
      "i=  60 loss=  11.69172843245956\n",
      "i=  80 loss=  11.690834187225844\n",
      "i=  100 loss=  11.690412303146616\n",
      "i=  120 loss=  11.69018246052199\n",
      "i=  140 loss=  11.690047306989037\n",
      "i=  160 loss=  11.689963886698408\n",
      "i=  180 loss=  11.689909915030897\n"
     ]
    },
    {
     "data": {
      "image/png": "[encoded data removed]",
      "text/plain": [
       "<Figure size 432x288 with 1 Axes>"
      ]
     },
     "metadata": {
      "needs_background": "light"
     },
     "output_type": "display_data"
    },
    {
     "name": "stdout",
     "output_type": "stream",
     "text": [
      "K= 600\n",
      "i=  0 loss=  12.136300153459938\n",
      "i=  20 loss=  11.243023936489337\n",
      "i=  40 loss=  11.229941148512435\n",
      "i=  60 loss=  11.227463134707083\n",
      "i=  80 loss=  11.226593608678723\n",
      "i=  100 loss=  11.226187874091199\n",
      "i=  120 loss=  11.225969358296096\n",
      "i=  140 loss=  11.225841766191293\n",
      "i=  160 loss=  11.225762445453158\n",
      "i=  180 loss=  11.225709867944975\n"
     ]
    },
    {
     "data": {
      "image/png": "[encoded data removed]",
      "text/plain": [
       "<Figure size 432x288 with 1 Axes>"
      ]
     },
     "metadata": {
      "needs_background": "light"
     },
     "output_type": "display_data"
    },
    {
     "name": "stdout",
     "output_type": "stream",
     "text": [
      "K= 700\n",
      "i=  0 loss=  11.792179386252997\n",
      "i=  20 loss=  10.793950359106514\n",
      "i=  40 loss=  10.780829521634129\n",
      "i=  60 loss=  10.778299262278876\n",
      "i=  80 loss=  10.777388894496573\n",
      "i=  100 loss=  10.776957853326495\n",
      "i=  120 loss=  10.776720866839655\n",
      "i=  140 loss=  10.776576790370934\n",
      "i=  160 loss=  10.776481905993485\n",
      "i=  180 loss=  10.776415199676638\n"
     ]
    },
    {
     "data": {
      "image/png": "[encoded data removed]",
      "text/plain": [
       "<Figure size 432x288 with 1 Axes>"
      ]
     },
     "metadata": {
      "needs_background": "light"
     },
     "output_type": "display_data"
    },
    {
     "name": "stdout",
     "output_type": "stream",
     "text": [
      "K= 800\n",
      "i=  0 loss=  11.449026257351301\n",
      "i=  20 loss=  10.358693245540003\n",
      "i=  40 loss=  10.345583565646232\n",
      "i=  60 loss=  10.343044210512788\n",
      "i=  80 loss=  10.342121603745813\n",
      "i=  100 loss=  10.341679795052396\n",
      "i=  120 loss=  10.341433810787208\n",
      "i=  140 loss=  10.341281610570933\n",
      "i=  160 loss=  10.341179797329298\n",
      "i=  180 loss=  10.341107628246906\n"
     ]
    },
    {
     "data": {
      "image/png": "[encoded data removed]",
      "text/plain": [
       "<Figure size 432x288 with 1 Axes>"
      ]
     },
     "metadata": {
      "needs_background": "light"
     },
     "output_type": "display_data"
    },
    {
     "name": "stdout",
     "output_type": "stream",
     "text": [
      "K= 900\n",
      "i=  0 loss=  11.11160089711248\n",
      "i=  20 loss=  9.936484122730233\n",
      "i=  40 loss=  9.923354294626836\n",
      "i=  60 loss=  9.920825920535556\n",
      "i=  80 loss=  9.919928158120467\n",
      "i=  100 loss=  9.919508897261043\n",
      "i=  120 loss=  9.919277736893573\n",
      "i=  140 loss=  9.919134669479522\n",
      "i=  160 loss=  9.919039036239969\n",
      "i=  180 loss=  9.91897193078488\n"
     ]
    },
    {
     "data": {
      "image/png": "[encoded data removed]",
      "text/plain": [
       "<Figure size 432x288 with 1 Axes>"
      ]
     },
     "metadata": {
      "needs_background": "light"
     },
     "output_type": "display_data"
    }
   ],
   "source": [
    "np.random.seed(21)\n",
    "# graphs_for_K = []\n",
    "for K in [10,100,200,300,400,500,600,700,800,900]:\n",
    "    print('K=',K)\n",
    "    V = np.random.random((M,K))\n",
    "    V /= sum(sum(V))            # Normalizing V\n",
    "#    print(V)\n",
    "    lamda_V = (0.00025 - 0.0001 * (282 % 7))\n",
    "    lamda_U = (0.00015 + 0.0001 * (282 % 8))\n",
    "    \n",
    "    Loss_graph = []\n",
    "    for i in range(200):\n",
    "        U = calculate_U(V,lamda_U,K,con_data)\n",
    "        V = calculate_V(U,lamda_V,K,con_data)\n",
    "        loss = MSE(con_data,(U.dot(V.T)))\n",
    "        Loss_graph.append(loss)\n",
    "        if i%20 ==0:\n",
    "            print(\"i= \",i,\"loss= \",loss)\n",
    "    U_data = pd.DataFrame(U)\n",
    "    U_data.to_csv('U_Matrix'+str(K)+'.csv', index=False)\n",
    "    \n",
    "    V_data = pd.DataFrame(V)\n",
    "    V_data.to_csv('V_Matrix'+str(K)+'.csv', index=False)\n",
    "    \n",
    "    plot_graph(Loss_graph,K)\n",
    "#     graphs_for_K.append(Loss)"
   ]
  },
  {
   "cell_type": "markdown",
   "id": "38567c29",
   "metadata": {},
   "source": [
    "# Different Values of K and Iterations"
   ]
  },
  {
   "cell_type": "code",
   "execution_count": 6,
   "id": "89fbe827",
   "metadata": {
    "scrolled": true
   },
   "outputs": [
    {
     "name": "stdout",
     "output_type": "stream",
     "text": [
      "K= 3500\n",
      "i=  0 loss=  3.467319822189958\n",
      "i=  5 loss=  2.401019045089167\n",
      "i=  10 loss=  2.3267820572336575\n",
      "i=  15 loss=  2.3107483595147027\n",
      "i=  20 loss=  2.3048509545929643\n",
      "i=  25 loss=  2.3020603566026456\n",
      "i=  30 loss=  2.3005311995782827\n",
      "i=  35 loss=  2.299607390985763\n",
      "i=  40 loss=  2.2990084613788344\n",
      "i=  45 loss=  2.2985986587289955\n"
     ]
    },
    {
     "data": {
      "image/png": "[encoded data removed]",
      "text/plain": [
       "<Figure size 432x288 with 1 Axes>"
      ]
     },
     "metadata": {
      "needs_background": "light"
     },
     "output_type": "display_data"
    },
    {
     "name": "stdout",
     "output_type": "stream",
     "text": [
      "K= 4000\n",
      "i=  0 loss=  2.230442313145189\n",
      "i=  5 loss=  1.4588229595673399\n",
      "i=  10 loss=  1.4048078463516362\n",
      "i=  15 loss=  1.3929340616709074\n",
      "i=  20 loss=  1.3885607455395228\n",
      "i=  25 loss=  1.3864880314691586\n",
      "i=  30 loss=  1.3853471571279685\n",
      "i=  35 loss=  1.3846527650171658\n",
      "i=  40 loss=  1.3841982536833715\n",
      "i=  45 loss=  1.3838840935845345\n"
     ]
    },
    {
     "data": {
      "image/png": "[encoded data removed]",
      "text/plain": [
       "<Figure size 432x288 with 1 Axes>"
      ]
     },
     "metadata": {
      "needs_background": "light"
     },
     "output_type": "display_data"
    },
    {
     "name": "stdout",
     "output_type": "stream",
     "text": [
      "K= 4500\n",
      "i=  0 loss=  1.0647481435480706\n",
      "i=  5 loss=  0.6542758251108928\n",
      "i=  10 loss=  0.623090722020952\n",
      "i=  15 loss=  0.6156252368716567\n",
      "i=  20 loss=  0.6128198168954527\n",
      "i=  25 loss=  0.6114783778159815\n",
      "i=  30 loss=  0.6107331845357581\n",
      "i=  35 loss=  0.6102762948608026\n",
      "i=  40 loss=  0.6099757763437804\n",
      "i=  45 loss=  0.6097672755637891\n"
     ]
    },
    {
     "data": {
      "image/png": "[encoded data removed]",
      "text/plain": [
       "<Figure size 432x288 with 1 Axes>"
      ]
     },
     "metadata": {
      "needs_background": "light"
     },
     "output_type": "display_data"
    }
   ],
   "source": [
    "np.random.seed(21)\n",
    "# graphs_for_K = []\n",
    "for K in [3500,4000,4500]:\n",
    "    print('K=',K)\n",
    "    V = np.random.random((M,K))\n",
    "    V /= sum(sum(V))            # Normalizing V\n",
    "#    print(V)\n",
    "    lamda_V = (0.00025 - 0.0001 * (282 % 7))\n",
    "    lamda_U = (0.00015 + 0.0001 * (282 % 8))\n",
    "    \n",
    "    Loss_graph = []\n",
    "    for i in range(50):\n",
    "        U = calculate_U(V,lamda_U,K,con_data)\n",
    "        V = calculate_V(U,lamda_V,K,con_data)\n",
    "        loss = MSE(con_data,(U.dot(V.T)))\n",
    "        Loss_graph.append(loss)\n",
    "        if i%5 ==0:\n",
    "            print(\"i= \",i,\"loss= \",loss)\n",
    "#     U_data = pd.DataFrame(U)\n",
    "#     U_data.to_csv('U_Matrix'+str(K)+'.csv', index=False)\n",
    "    \n",
    "#     V_data = pd.DataFrame(V)\n",
    "#     V_data.to_csv('V_Matrix'+str(K)+'.csv', index=False)\n",
    "    \n",
    "    plot_graph(Loss_graph,K)\n",
    "#     graphs_for_K.append(Loss)"
   ]
  },
  {
   "cell_type": "markdown",
   "id": "321fe7a5",
   "metadata": {},
   "source": [
    "# Cosine Similarities"
   ]
  },
  {
   "cell_type": "code",
   "execution_count": 2,
   "id": "ddd02314",
   "metadata": {},
   "outputs": [],
   "source": [
    "from sklearn.metrics.pairwise import cosine_similarity"
   ]
  },
  {
   "cell_type": "markdown",
   "id": "146d0ef0",
   "metadata": {},
   "source": [
    "# Cosine Similarity of U"
   ]
  },
  {
   "cell_type": "code",
   "execution_count": 3,
   "id": "fc9e1718",
   "metadata": {
    "scrolled": false
   },
   "outputs": [
    {
     "name": "stdout",
     "output_type": "stream",
     "text": [
      "[[1.         0.99986032 0.9998645  ... 0.99986436 0.9998601  0.99986404]\n",
      " [0.99986032 1.         0.9998713  ... 0.99987355 0.9998745  0.99986644]\n",
      " [0.9998645  0.9998713  1.         ... 0.99986765 0.99986789 0.99986992]\n",
      " ...\n",
      " [0.99986436 0.99987355 0.99986765 ... 1.         0.9998712  0.99986607]\n",
      " [0.9998601  0.9998745  0.99986789 ... 0.9998712  1.         0.99986934]\n",
      " [0.99986404 0.99986644 0.99986992 ... 0.99986607 0.99986934 1.        ]]\n"
     ]
    }
   ],
   "source": [
    "U = pd.read_csv('U_Matrix900.csv')\n",
    "U.shape\n",
    "New_U = U.to_numpy()\n",
    "cos_u = cosine_similarity(New_U)\n",
    "print(cos_u)"
   ]
  },
  {
   "cell_type": "markdown",
   "id": "0d331111",
   "metadata": {},
   "source": [
    "# Cosine Similarity of V"
   ]
  },
  {
   "cell_type": "code",
   "execution_count": 4,
   "id": "70c9bbcf",
   "metadata": {},
   "outputs": [
    {
     "name": "stdout",
     "output_type": "stream",
     "text": [
      "[[ 1.00000000e+00 -2.33425986e-02  8.86607314e-03 ... -1.66766341e-04\n",
      "   2.23754641e-02 -2.61544205e-02]\n",
      " [-2.33425986e-02  1.00000000e+00  3.19488569e-02 ... -1.65865682e-02\n",
      "  -2.85825153e-02  2.58531305e-02]\n",
      " [ 8.86607314e-03  3.19488569e-02  1.00000000e+00 ...  1.10719104e-02\n",
      "  -3.75688027e-02 -1.86583090e-02]\n",
      " ...\n",
      " [-1.66766341e-04 -1.65865682e-02  1.10719104e-02 ...  1.00000000e+00\n",
      "   4.28697816e-02 -3.06637512e-02]\n",
      " [ 2.23754641e-02 -2.85825153e-02 -3.75688027e-02 ...  4.28697816e-02\n",
      "   1.00000000e+00  1.73009541e-02]\n",
      " [-2.61544205e-02  2.58531305e-02 -1.86583090e-02 ... -3.06637512e-02\n",
      "   1.73009541e-02  1.00000000e+00]]\n"
     ]
    }
   ],
   "source": [
    "V = pd.read_csv('V_Matrix900.csv')\n",
    "V.shape\n",
    "New_V = V.to_numpy()\n",
    "cos_v = cosine_similarity(New_V)\n",
    "print(cos_v)"
   ]
  },
  {
   "cell_type": "markdown",
   "id": "26e06378",
   "metadata": {},
   "source": [
    "# Suggesting Movies that User hadn't Reviewed"
   ]
  },
  {
   "cell_type": "code",
   "execution_count": 6,
   "id": "79cf9a1d",
   "metadata": {},
   "outputs": [],
   "source": [
    "U = pd.read_csv('U_Matrix900.csv')\n",
    "U = U.to_numpy()\n",
    "V = pd.read_csv('V_Matrix900.csv')\n",
    "V = V.to_numpy()\n",
    "X = U.dot(V.T)\n",
    "X = pd.DataFrame(X)"
   ]
  },
  {
   "cell_type": "code",
   "execution_count": 45,
   "id": "d7573591",
   "metadata": {},
   "outputs": [],
   "source": [
    "def suggestion(user_id,movie_no):\n",
    "    movie = data.iloc[4]\n",
    "    nan = [i for i in range(len(movie)) if pd.isna(movie[i])]\n",
    "    sugg = {}\n",
    "    for j in nan:\n",
    "        rates = X.iloc[user_id][j]\n",
    "        if(rates>7):\n",
    "            sugg[j] = rates\n",
    "    sug_list = sorted(sugg.items(),key=lambda x: x[1],reverse=True)\n",
    "    for k in sug_list[0:movie_no]:\n",
    "        print(k[0],k[1])"
   ]
  },
  {
   "cell_type": "code",
   "execution_count": 46,
   "id": "f4f5ef9e",
   "metadata": {
    "scrolled": true
   },
   "outputs": [
    {
     "name": "stdout",
     "output_type": "stream",
     "text": [
      "2446 8.664001239513102\n",
      "3375 8.60208877328462\n",
      "232 8.318789792280185\n",
      "4062 8.080855668486308\n",
      "4253 8.065153453925689\n"
     ]
    }
   ],
   "source": [
    "suggestion(21,5)    # suggestion( Number of user , Number of movies)"
   ]
  }
 ],
 "metadata": {
  "kernelspec": {
   "display_name": "Python 3",
   "language": "python",
   "name": "python3"
  },
  "language_info": {
   "codemirror_mode": {
    "name": "ipython",
    "version": 3
   },
   "file_extension": ".py",
   "mimetype": "text/x-python",
   "name": "python",
   "nbconvert_exporter": "python",
   "pygments_lexer": "ipython3",
   "version": "3.8.8"
  }
 },
 "nbformat": 4,
 "nbformat_minor": 5
}
